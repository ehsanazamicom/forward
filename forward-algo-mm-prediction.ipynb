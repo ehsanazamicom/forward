{
 "cells": [
  {
   "cell_type": "code",
   "execution_count": 114,
   "metadata": {},
   "outputs": [],
   "source": [
    "import numpy as np"
   ]
  },
  {
   "cell_type": "markdown",
   "metadata": {},
   "source": [
    "#### prediction"
   ]
  },
  {
   "cell_type": "code",
   "execution_count": 115,
   "metadata": {},
   "outputs": [],
   "source": [
    "def predict(k):\n",
    "    if k > 1:\n",
    "        a1,a2 = predict(k-1)\n",
    "    else:\n",
    "# uniform distribution\n",
    "        a1  = 0.5\n",
    "        a2 = 0.5\n",
    "    \n",
    "    \n",
    "# set transition model    \n",
    "    mat1 = ([0.9, 0.1])\n",
    "    mat2 = ([0.3, 0.7])\n",
    "    \n",
    "\n",
    "    res1 = np.dot(mat1,a1)\n",
    "    res2 = np.dot(mat2,a2)\n",
    "    res = res1+res2\n",
    "    \n",
    "    print(\"P(\"+str(k-1)+\")=\"+str(a1)+\"*\"+str(mat1)+\"+\"+str(round(a2, 3))+\"*\"+str(mat2))\n",
    "    print(\"=\"+str(res)+\"\\n\")\n",
    "    return res"
   ]
  },
  {
   "cell_type": "code",
   "execution_count": 119,
   "metadata": {
    "scrolled": false
   },
   "outputs": [
    {
     "name": "stdout",
     "output_type": "stream",
     "text": [
      "P(0)=0.5*[0.9, 0.1]+0.5*[0.3, 0.7]\n",
      "=[0.6 0.4]\n",
      "\n",
      "P(1)=0.6*[0.9, 0.1]+0.4*[0.3, 0.7]\n",
      "=[0.66 0.34]\n",
      "\n",
      "P(2)=0.66*[0.9, 0.1]+0.34*[0.3, 0.7]\n",
      "=[0.696 0.304]\n",
      "\n",
      "P(3)=0.6960000000000001*[0.9, 0.1]+0.304*[0.3, 0.7]\n",
      "=[0.7176 0.2824]\n",
      "\n",
      "P(4)=0.7176*[0.9, 0.1]+0.282*[0.3, 0.7]\n",
      "=[0.73056 0.26944]\n",
      "\n",
      "P(5)=0.7305600000000001*[0.9, 0.1]+0.269*[0.3, 0.7]\n",
      "=[0.738336 0.261664]\n",
      "\n"
     ]
    },
    {
     "data": {
      "text/plain": [
       "array([0.738336, 0.261664])"
      ]
     },
     "execution_count": 119,
     "metadata": {},
     "output_type": "execute_result"
    }
   ],
   "source": [
    "predict(6)"
   ]
  },
  {
   "cell_type": "code",
   "execution_count": 117,
   "metadata": {},
   "outputs": [],
   "source": [
    "# Run Prediction for 36 Days you can see the stationary algorithm is in day34\n",
    "# predict(36)"
   ]
  }
 ],
 "metadata": {
  "kernelspec": {
   "display_name": "Python 3",
   "language": "python",
   "name": "python3"
  },
  "language_info": {
   "codemirror_mode": {
    "name": "ipython",
    "version": 3
   },
   "file_extension": ".py",
   "mimetype": "text/x-python",
   "name": "python",
   "nbconvert_exporter": "python",
   "pygments_lexer": "ipython3",
   "version": "3.8.5"
  }
 },
 "nbformat": 4,
 "nbformat_minor": 4
}
